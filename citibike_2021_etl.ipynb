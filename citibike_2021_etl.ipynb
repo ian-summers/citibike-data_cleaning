{
 "cells": [
  {
   "cell_type": "code",
   "execution_count": 1,
   "metadata": {},
   "outputs": [],
   "source": [
    "import pandas as pd\n",
    "import numpy as np\n",
    "import os\n",
    "import calendar"
   ]
  },
  {
   "cell_type": "code",
   "execution_count": 2,
   "metadata": {},
   "outputs": [
    {
     "name": "stderr",
     "output_type": "stream",
     "text": [
      "C:\\Users\\ianro\\AppData\\Local\\Temp\\ipykernel_33652\\3061597933.py:1: DtypeWarning: Columns (5,7) have mixed types. Specify dtype option on import or set low_memory=False.\n",
      "  citybike_2021_df = pd.read_csv('2021-citibike-tripdata/2_February/202102-citibike-tripdata_1.csv')\n"
     ]
    },
    {
     "data": {
      "text/html": [
       "<div>\n",
       "<style scoped>\n",
       "    .dataframe tbody tr th:only-of-type {\n",
       "        vertical-align: middle;\n",
       "    }\n",
       "\n",
       "    .dataframe tbody tr th {\n",
       "        vertical-align: top;\n",
       "    }\n",
       "\n",
       "    .dataframe thead th {\n",
       "        text-align: right;\n",
       "    }\n",
       "</style>\n",
       "<table border=\"1\" class=\"dataframe\">\n",
       "  <thead>\n",
       "    <tr style=\"text-align: right;\">\n",
       "      <th></th>\n",
       "      <th>ride_id</th>\n",
       "      <th>rideable_type</th>\n",
       "      <th>started_at</th>\n",
       "      <th>ended_at</th>\n",
       "      <th>start_station_name</th>\n",
       "      <th>start_station_id</th>\n",
       "      <th>end_station_name</th>\n",
       "      <th>end_station_id</th>\n",
       "      <th>start_lat</th>\n",
       "      <th>start_lng</th>\n",
       "      <th>end_lat</th>\n",
       "      <th>end_lng</th>\n",
       "      <th>member_casual</th>\n",
       "    </tr>\n",
       "  </thead>\n",
       "  <tbody>\n",
       "    <tr>\n",
       "      <th>0</th>\n",
       "      <td>BBA33D73DECE976F</td>\n",
       "      <td>docked_bike</td>\n",
       "      <td>2021-02-26 16:38:54</td>\n",
       "      <td>2021-02-26 16:44:37</td>\n",
       "      <td>E 84 St &amp; Park Ave</td>\n",
       "      <td>7243.04</td>\n",
       "      <td>E 78 St &amp; 2 Ave</td>\n",
       "      <td>7057.07</td>\n",
       "      <td>40.778626</td>\n",
       "      <td>-73.957720</td>\n",
       "      <td>40.772797</td>\n",
       "      <td>-73.955778</td>\n",
       "      <td>casual</td>\n",
       "    </tr>\n",
       "    <tr>\n",
       "      <th>1</th>\n",
       "      <td>B63D7AFF9AC5B6D4</td>\n",
       "      <td>docked_bike</td>\n",
       "      <td>2021-02-17 11:09:11</td>\n",
       "      <td>2021-02-17 11:26:47</td>\n",
       "      <td>Macon St &amp; Nostrand Ave</td>\n",
       "      <td>4214.03</td>\n",
       "      <td>Bond St &amp; Fulton St</td>\n",
       "      <td>4479.06</td>\n",
       "      <td>40.680983</td>\n",
       "      <td>-73.950047</td>\n",
       "      <td>40.689622</td>\n",
       "      <td>-73.983043</td>\n",
       "      <td>member</td>\n",
       "    </tr>\n",
       "    <tr>\n",
       "      <th>2</th>\n",
       "      <td>52B829195C469D99</td>\n",
       "      <td>docked_bike</td>\n",
       "      <td>2021-02-26 18:33:29</td>\n",
       "      <td>2021-02-26 19:05:41</td>\n",
       "      <td>Macon St &amp; Nostrand Ave</td>\n",
       "      <td>4214.03</td>\n",
       "      <td>Lefferts Pl &amp; Franklin Ave</td>\n",
       "      <td>4222.02</td>\n",
       "      <td>40.680983</td>\n",
       "      <td>-73.950047</td>\n",
       "      <td>40.680342</td>\n",
       "      <td>-73.955769</td>\n",
       "      <td>casual</td>\n",
       "    </tr>\n",
       "    <tr>\n",
       "      <th>3</th>\n",
       "      <td>19C84ECA2B468476</td>\n",
       "      <td>docked_bike</td>\n",
       "      <td>2021-02-26 12:48:35</td>\n",
       "      <td>2021-02-26 13:07:24</td>\n",
       "      <td>Macon St &amp; Nostrand Ave</td>\n",
       "      <td>4214.03</td>\n",
       "      <td>Bond St &amp; Fulton St</td>\n",
       "      <td>4479.06</td>\n",
       "      <td>40.680983</td>\n",
       "      <td>-73.950047</td>\n",
       "      <td>40.689622</td>\n",
       "      <td>-73.983043</td>\n",
       "      <td>member</td>\n",
       "    </tr>\n",
       "    <tr>\n",
       "      <th>4</th>\n",
       "      <td>C0DDB771E70D9DF5</td>\n",
       "      <td>docked_bike</td>\n",
       "      <td>2021-02-25 17:23:22</td>\n",
       "      <td>2021-02-25 17:28:20</td>\n",
       "      <td>Madison Ave &amp; E 26 St</td>\n",
       "      <td>6131.12</td>\n",
       "      <td>W 37 St &amp; 5 Ave</td>\n",
       "      <td>6398.06</td>\n",
       "      <td>40.742685</td>\n",
       "      <td>-73.986713</td>\n",
       "      <td>40.750380</td>\n",
       "      <td>-73.983390</td>\n",
       "      <td>member</td>\n",
       "    </tr>\n",
       "  </tbody>\n",
       "</table>\n",
       "</div>"
      ],
      "text/plain": [
       "            ride_id rideable_type           started_at             ended_at  \\\n",
       "0  BBA33D73DECE976F   docked_bike  2021-02-26 16:38:54  2021-02-26 16:44:37   \n",
       "1  B63D7AFF9AC5B6D4   docked_bike  2021-02-17 11:09:11  2021-02-17 11:26:47   \n",
       "2  52B829195C469D99   docked_bike  2021-02-26 18:33:29  2021-02-26 19:05:41   \n",
       "3  19C84ECA2B468476   docked_bike  2021-02-26 12:48:35  2021-02-26 13:07:24   \n",
       "4  C0DDB771E70D9DF5   docked_bike  2021-02-25 17:23:22  2021-02-25 17:28:20   \n",
       "\n",
       "        start_station_name start_station_id            end_station_name  \\\n",
       "0       E 84 St & Park Ave          7243.04             E 78 St & 2 Ave   \n",
       "1  Macon St & Nostrand Ave          4214.03         Bond St & Fulton St   \n",
       "2  Macon St & Nostrand Ave          4214.03  Lefferts Pl & Franklin Ave   \n",
       "3  Macon St & Nostrand Ave          4214.03         Bond St & Fulton St   \n",
       "4    Madison Ave & E 26 St          6131.12             W 37 St & 5 Ave   \n",
       "\n",
       "  end_station_id  start_lat  start_lng    end_lat    end_lng member_casual  \n",
       "0        7057.07  40.778626 -73.957720  40.772797 -73.955778        casual  \n",
       "1        4479.06  40.680983 -73.950047  40.689622 -73.983043        member  \n",
       "2        4222.02  40.680983 -73.950047  40.680342 -73.955769        casual  \n",
       "3        4479.06  40.680983 -73.950047  40.689622 -73.983043        member  \n",
       "4        6398.06  40.742685 -73.986713  40.750380 -73.983390        member  "
      ]
     },
     "execution_count": 2,
     "metadata": {},
     "output_type": "execute_result"
    }
   ],
   "source": [
    "citybike_2021_df = pd.read_csv('2021-citibike-tripdata/2_February/202102-citibike-tripdata_1.csv')\n",
    "\n",
    "citybike_2021_df.head()"
   ]
  },
  {
   "cell_type": "markdown",
   "metadata": {},
   "source": [
    "Column Reformatting"
   ]
  },
  {
   "cell_type": "code",
   "execution_count": 3,
   "metadata": {},
   "outputs": [],
   "source": [
    "citybike_2021_df['ride_id'] = citybike_2021_df['ride_id'].astype('object')\n",
    "citybike_2021_df['rideable_type'] = citybike_2021_df['rideable_type'].astype('category')\n",
    "citybike_2021_df['started_at'] = pd.to_datetime(citybike_2021_df['started_at'])\n",
    "citybike_2021_df['ended_at'] = pd.to_datetime(citybike_2021_df['ended_at'])\n",
    "citybike_2021_df['start_station_name'] = citybike_2021_df['start_station_name'].astype('category')\n",
    "citybike_2021_df['end_station_name'] = citybike_2021_df['end_station_name'].astype('category')\n",
    "citybike_2021_df['start_station_id'] = citybike_2021_df['start_station_id'].astype('object')  # or int64\n",
    "citybike_2021_df['end_station_id'] = citybike_2021_df['end_station_id'].astype('object')  # or int64\n",
    "citybike_2021_df['start_lat'] = citybike_2021_df['start_lat'].astype('float64')\n",
    "citybike_2021_df['start_lng'] = citybike_2021_df['start_lng'].astype('float64')\n",
    "citybike_2021_df['end_lat'] = citybike_2021_df['end_lat'].astype('float64')\n",
    "citybike_2021_df['end_lng'] = citybike_2021_df['end_lng'].astype('float64')\n",
    "citybike_2021_df['member_casual'] = citybike_2021_df['member_casual'].astype('category')"
   ]
  },
  {
   "cell_type": "code",
   "execution_count": 4,
   "metadata": {},
   "outputs": [],
   "source": [
    "citybike_2021_df = pd.DataFrame()"
   ]
  },
  {
   "cell_type": "code",
   "execution_count": 5,
   "metadata": {},
   "outputs": [
    {
     "name": "stdout",
     "output_type": "stream",
     "text": [
      "['T', '_AXIS_LEN', '_AXIS_ORDERS', '_AXIS_TO_AXIS_NUMBER', '_HANDLED_TYPES', '__abs__', '__add__', '__and__', '__annotations__', '__array__', '__array_priority__', '__array_ufunc__', '__bool__', '__class__', '__contains__', '__copy__', '__dataframe__', '__dataframe_consortium_standard__', '__deepcopy__', '__delattr__', '__delitem__', '__dict__', '__dir__', '__divmod__', '__doc__', '__eq__', '__finalize__', '__floordiv__', '__format__', '__ge__', '__getattr__', '__getattribute__', '__getitem__', '__getstate__', '__gt__', '__hash__', '__iadd__', '__iand__', '__ifloordiv__', '__imod__', '__imul__', '__init__', '__init_subclass__', '__invert__', '__ior__', '__ipow__', '__isub__', '__iter__', '__itruediv__', '__ixor__', '__le__', '__len__', '__lt__', '__matmul__', '__mod__', '__module__', '__mul__', '__ne__', '__neg__', '__new__', '__nonzero__', '__or__', '__pandas_priority__', '__pos__', '__pow__', '__radd__', '__rand__', '__rdivmod__', '__reduce__', '__reduce_ex__', '__repr__', '__rfloordiv__', '__rmatmul__', '__rmod__', '__rmul__', '__ror__', '__round__', '__rpow__', '__rsub__', '__rtruediv__', '__rxor__', '__setattr__', '__setitem__', '__setstate__', '__sizeof__', '__str__', '__sub__', '__subclasshook__', '__truediv__', '__weakref__', '__xor__', '_accessors', '_accum_func', '_agg_examples_doc', '_agg_see_also_doc', '_align_for_op', '_align_frame', '_align_series', '_append', '_arith_method', '_arith_method_with_reindex', '_as_manager', '_attrs', '_box_col_values', '_can_fast_transpose', '_check_inplace_and_allows_duplicate_labels', '_check_is_chained_assignment_possible', '_check_label_or_level_ambiguity', '_check_setitem_copy', '_clear_item_cache', '_clip_with_one_bound', '_clip_with_scalar', '_cmp_method', '_combine_frame', '_consolidate', '_consolidate_inplace', '_construct_axes_dict', '_construct_result', '_constructor', '_constructor_from_mgr', '_constructor_sliced', '_constructor_sliced_from_mgr', '_create_data_for_split_and_tight_to_dict', '_data', '_deprecate_downcast', '_dir_additions', '_dir_deletions', '_dispatch_frame_op', '_drop_axis', '_drop_labels_or_levels', '_ensure_valid_index', '_find_valid_index', '_flags', '_flex_arith_method', '_flex_cmp_method', '_from_arrays', '_from_mgr', '_get_agg_axis', '_get_axis', '_get_axis_name', '_get_axis_number', '_get_axis_resolvers', '_get_block_manager_axis', '_get_bool_data', '_get_cleaned_column_resolvers', '_get_column_array', '_get_index_resolvers', '_get_item_cache', '_get_label_or_level_values', '_get_numeric_data', '_get_value', '_getitem_bool_array', '_getitem_multilevel', '_getitem_nocopy', '_getitem_slice', '_gotitem', '_hidden_attrs', '_indexed_same', '_info_axis', '_info_axis_name', '_info_axis_number', '_info_repr', '_init_mgr', '_inplace_method', '_internal_names', '_internal_names_set', '_is_copy', '_is_homogeneous_type', '_is_label_or_level_reference', '_is_label_reference', '_is_level_reference', '_is_mixed_type', '_is_view', '_iset_item', '_iset_item_mgr', '_iset_not_inplace', '_item_cache', '_iter_column_arrays', '_ixs', '_logical_func', '_logical_method', '_maybe_align_series_as_frame', '_maybe_cache_changed', '_maybe_update_cacher', '_metadata', '_mgr', '_min_count_stat_function', '_needs_reindex_multi', '_pad_or_backfill', '_protect_consolidate', '_reduce', '_reduce_axis1', '_reindex_axes', '_reindex_multi', '_reindex_with_indexers', '_rename', '_replace_columnwise', '_repr_data_resource_', '_repr_fits_horizontal_', '_repr_fits_vertical_', '_repr_html_', '_repr_latex_', '_reset_cache', '_reset_cacher', '_sanitize_column', '_series', '_set_axis', '_set_axis_name', '_set_axis_nocheck', '_set_is_copy', '_set_item', '_set_item_frame_value', '_set_item_mgr', '_set_value', '_setitem_array', '_setitem_frame', '_setitem_slice', '_shift_with_freq', '_should_reindex_frame_op', '_slice', '_sliced_from_mgr', '_stat_function', '_stat_function_ddof', '_take_with_is_copy', '_to_dict_of_blocks', '_to_latex_via_styler', '_typ', '_update_inplace', '_validate_dtype', '_values', '_where', 'abs', 'add', 'add_prefix', 'add_suffix', 'agg', 'aggregate', 'align', 'all', 'any', 'apply', 'applymap', 'asfreq', 'asof', 'assign', 'astype', 'at', 'at_time', 'attrs', 'axes', 'backfill', 'between_time', 'bfill', 'bool', 'boxplot', 'clip', 'columns', 'combine', 'combine_first', 'compare', 'convert_dtypes', 'copy', 'corr', 'corrwith', 'count', 'cov', 'cummax', 'cummin', 'cumprod', 'cumsum', 'describe', 'diff', 'div', 'divide', 'dot', 'drop', 'drop_duplicates', 'droplevel', 'dropna', 'dtypes', 'duplicated', 'empty', 'eq', 'equals', 'eval', 'ewm', 'expanding', 'explode', 'ffill', 'fillna', 'filter', 'first', 'first_valid_index', 'flags', 'floordiv', 'from_dict', 'from_records', 'ge', 'get', 'groupby', 'gt', 'head', 'hist', 'iat', 'idxmax', 'idxmin', 'iloc', 'index', 'infer_objects', 'info', 'insert', 'interpolate', 'isetitem', 'isin', 'isna', 'isnull', 'items', 'iterrows', 'itertuples', 'join', 'keys', 'kurt', 'kurtosis', 'last', 'last_valid_index', 'le', 'loc', 'lt', 'map', 'mask', 'max', 'mean', 'median', 'melt', 'memory_usage', 'merge', 'min', 'mod', 'mode', 'mul', 'multiply', 'ndim', 'ne', 'nlargest', 'notna', 'notnull', 'nsmallest', 'nunique', 'pad', 'pct_change', 'pipe', 'pivot', 'pivot_table', 'plot', 'pop', 'pow', 'prod', 'product', 'quantile', 'query', 'radd', 'rank', 'rdiv', 'reindex', 'reindex_like', 'rename', 'rename_axis', 'reorder_levels', 'replace', 'resample', 'reset_index', 'rfloordiv', 'rmod', 'rmul', 'rolling', 'round', 'rpow', 'rsub', 'rtruediv', 'sample', 'select_dtypes', 'sem', 'set_axis', 'set_flags', 'set_index', 'shape', 'shift', 'size', 'skew', 'sort_index', 'sort_values', 'sparse', 'squeeze', 'stack', 'std', 'style', 'sub', 'subtract', 'sum', 'swapaxes', 'swaplevel', 'tail', 'take', 'to_clipboard', 'to_csv', 'to_dict', 'to_excel', 'to_feather', 'to_gbq', 'to_hdf', 'to_html', 'to_json', 'to_latex', 'to_markdown', 'to_numpy', 'to_orc', 'to_parquet', 'to_period', 'to_pickle', 'to_records', 'to_sql', 'to_stata', 'to_string', 'to_timestamp', 'to_xarray', 'to_xml', 'transform', 'transpose', 'truediv', 'truncate', 'tz_convert', 'tz_localize', 'unstack', 'update', 'value_counts', 'values', 'var', 'where', 'xs']\n"
     ]
    }
   ],
   "source": [
    "print(dir(citybike_2021_df))"
   ]
  },
  {
   "cell_type": "markdown",
   "metadata": {},
   "source": [
    "For Loop Import Process"
   ]
  },
  {
   "cell_type": "code",
   "execution_count": 7,
   "metadata": {},
   "outputs": [
    {
     "name": "stderr",
     "output_type": "stream",
     "text": [
      "C:\\Users\\ianro\\AppData\\Local\\Temp\\ipykernel_33652\\3185418245.py:26: DtypeWarning: Columns (5,7) have mixed types. Specify dtype option on import or set low_memory=False.\n",
      "  df_to_append = pd.read_csv(file_path)\n",
      "C:\\Users\\ianro\\AppData\\Local\\Temp\\ipykernel_33652\\3185418245.py:26: DtypeWarning: Columns (5,7) have mixed types. Specify dtype option on import or set low_memory=False.\n",
      "  df_to_append = pd.read_csv(file_path)\n",
      "C:\\Users\\ianro\\AppData\\Local\\Temp\\ipykernel_33652\\3185418245.py:26: DtypeWarning: Columns (5,7) have mixed types. Specify dtype option on import or set low_memory=False.\n",
      "  df_to_append = pd.read_csv(file_path)\n",
      "C:\\Users\\ianro\\AppData\\Local\\Temp\\ipykernel_33652\\3185418245.py:26: DtypeWarning: Columns (5,7) have mixed types. Specify dtype option on import or set low_memory=False.\n",
      "  df_to_append = pd.read_csv(file_path)\n",
      "C:\\Users\\ianro\\AppData\\Local\\Temp\\ipykernel_33652\\3185418245.py:26: DtypeWarning: Columns (7) have mixed types. Specify dtype option on import or set low_memory=False.\n",
      "  df_to_append = pd.read_csv(file_path)\n",
      "C:\\Users\\ianro\\AppData\\Local\\Temp\\ipykernel_33652\\3185418245.py:26: DtypeWarning: Columns (5) have mixed types. Specify dtype option on import or set low_memory=False.\n",
      "  df_to_append = pd.read_csv(file_path)\n",
      "C:\\Users\\ianro\\AppData\\Local\\Temp\\ipykernel_33652\\3185418245.py:26: DtypeWarning: Columns (5,7) have mixed types. Specify dtype option on import or set low_memory=False.\n",
      "  df_to_append = pd.read_csv(file_path)\n",
      "C:\\Users\\ianro\\AppData\\Local\\Temp\\ipykernel_33652\\3185418245.py:26: DtypeWarning: Columns (7) have mixed types. Specify dtype option on import or set low_memory=False.\n",
      "  df_to_append = pd.read_csv(file_path)\n",
      "C:\\Users\\ianro\\AppData\\Local\\Temp\\ipykernel_33652\\3185418245.py:26: DtypeWarning: Columns (7) have mixed types. Specify dtype option on import or set low_memory=False.\n",
      "  df_to_append = pd.read_csv(file_path)\n",
      "C:\\Users\\ianro\\AppData\\Local\\Temp\\ipykernel_33652\\3185418245.py:26: DtypeWarning: Columns (7) have mixed types. Specify dtype option on import or set low_memory=False.\n",
      "  df_to_append = pd.read_csv(file_path)\n",
      "C:\\Users\\ianro\\AppData\\Local\\Temp\\ipykernel_33652\\3185418245.py:26: DtypeWarning: Columns (7) have mixed types. Specify dtype option on import or set low_memory=False.\n",
      "  df_to_append = pd.read_csv(file_path)\n",
      "C:\\Users\\ianro\\AppData\\Local\\Temp\\ipykernel_33652\\3185418245.py:26: DtypeWarning: Columns (7) have mixed types. Specify dtype option on import or set low_memory=False.\n",
      "  df_to_append = pd.read_csv(file_path)\n",
      "C:\\Users\\ianro\\AppData\\Local\\Temp\\ipykernel_33652\\3185418245.py:26: DtypeWarning: Columns (7) have mixed types. Specify dtype option on import or set low_memory=False.\n",
      "  df_to_append = pd.read_csv(file_path)\n",
      "C:\\Users\\ianro\\AppData\\Local\\Temp\\ipykernel_33652\\3185418245.py:26: DtypeWarning: Columns (7) have mixed types. Specify dtype option on import or set low_memory=False.\n",
      "  df_to_append = pd.read_csv(file_path)\n",
      "C:\\Users\\ianro\\AppData\\Local\\Temp\\ipykernel_33652\\3185418245.py:26: DtypeWarning: Columns (7) have mixed types. Specify dtype option on import or set low_memory=False.\n",
      "  df_to_append = pd.read_csv(file_path)\n",
      "C:\\Users\\ianro\\AppData\\Local\\Temp\\ipykernel_33652\\3185418245.py:26: DtypeWarning: Columns (7) have mixed types. Specify dtype option on import or set low_memory=False.\n",
      "  df_to_append = pd.read_csv(file_path)\n",
      "C:\\Users\\ianro\\AppData\\Local\\Temp\\ipykernel_33652\\3185418245.py:26: DtypeWarning: Columns (7) have mixed types. Specify dtype option on import or set low_memory=False.\n",
      "  df_to_append = pd.read_csv(file_path)\n",
      "C:\\Users\\ianro\\AppData\\Local\\Temp\\ipykernel_33652\\3185418245.py:26: DtypeWarning: Columns (7) have mixed types. Specify dtype option on import or set low_memory=False.\n",
      "  df_to_append = pd.read_csv(file_path)\n",
      "C:\\Users\\ianro\\AppData\\Local\\Temp\\ipykernel_33652\\3185418245.py:26: DtypeWarning: Columns (7) have mixed types. Specify dtype option on import or set low_memory=False.\n",
      "  df_to_append = pd.read_csv(file_path)\n",
      "C:\\Users\\ianro\\AppData\\Local\\Temp\\ipykernel_33652\\3185418245.py:26: DtypeWarning: Columns (7) have mixed types. Specify dtype option on import or set low_memory=False.\n",
      "  df_to_append = pd.read_csv(file_path)\n",
      "C:\\Users\\ianro\\AppData\\Local\\Temp\\ipykernel_33652\\3185418245.py:26: DtypeWarning: Columns (7) have mixed types. Specify dtype option on import or set low_memory=False.\n",
      "  df_to_append = pd.read_csv(file_path)\n",
      "C:\\Users\\ianro\\AppData\\Local\\Temp\\ipykernel_33652\\3185418245.py:26: DtypeWarning: Columns (7) have mixed types. Specify dtype option on import or set low_memory=False.\n",
      "  df_to_append = pd.read_csv(file_path)\n",
      "C:\\Users\\ianro\\AppData\\Local\\Temp\\ipykernel_33652\\3185418245.py:26: DtypeWarning: Columns (7) have mixed types. Specify dtype option on import or set low_memory=False.\n",
      "  df_to_append = pd.read_csv(file_path)\n",
      "C:\\Users\\ianro\\AppData\\Local\\Temp\\ipykernel_33652\\3185418245.py:26: DtypeWarning: Columns (5,7) have mixed types. Specify dtype option on import or set low_memory=False.\n",
      "  df_to_append = pd.read_csv(file_path)\n",
      "C:\\Users\\ianro\\AppData\\Local\\Temp\\ipykernel_33652\\3185418245.py:26: DtypeWarning: Columns (5,7) have mixed types. Specify dtype option on import or set low_memory=False.\n",
      "  df_to_append = pd.read_csv(file_path)\n",
      "C:\\Users\\ianro\\AppData\\Local\\Temp\\ipykernel_33652\\3185418245.py:26: DtypeWarning: Columns (5,7) have mixed types. Specify dtype option on import or set low_memory=False.\n",
      "  df_to_append = pd.read_csv(file_path)\n",
      "C:\\Users\\ianro\\AppData\\Local\\Temp\\ipykernel_33652\\3185418245.py:26: DtypeWarning: Columns (5,7) have mixed types. Specify dtype option on import or set low_memory=False.\n",
      "  df_to_append = pd.read_csv(file_path)\n",
      "C:\\Users\\ianro\\AppData\\Local\\Temp\\ipykernel_33652\\3185418245.py:26: DtypeWarning: Columns (5,7) have mixed types. Specify dtype option on import or set low_memory=False.\n",
      "  df_to_append = pd.read_csv(file_path)\n",
      "C:\\Users\\ianro\\AppData\\Local\\Temp\\ipykernel_33652\\3185418245.py:26: DtypeWarning: Columns (5,7) have mixed types. Specify dtype option on import or set low_memory=False.\n",
      "  df_to_append = pd.read_csv(file_path)\n",
      "C:\\Users\\ianro\\AppData\\Local\\Temp\\ipykernel_33652\\3185418245.py:26: DtypeWarning: Columns (7) have mixed types. Specify dtype option on import or set low_memory=False.\n",
      "  df_to_append = pd.read_csv(file_path)\n"
     ]
    }
   ],
   "source": [
    "# Initialize an empty DataFrame\n",
    "citybike_2021_df = pd.DataFrame()\n",
    "\n",
    "# Directory containing monthly directories\n",
    "main_directory = '2021-citibike-tripdata/'\n",
    "\n",
    "# Iterate over each month directory, starting from February (2) to December (12)\n",
    "# Note: loop starts at February due to formatting issues with January data\n",
    "for month_dir in range(2, 13):\n",
    "    month_directory = os.path.join(main_directory, f\"{month_dir}_{calendar.month_name[month_dir]}\")\n",
    "    if os.path.isdir(month_directory):\n",
    "        # List all CSV files in the month directory\n",
    "        csv_files = [file for file in os.listdir(month_directory) if file.endswith('.csv')]\n",
    "        \n",
    "        # Iterate over each CSV file\n",
    "        for file_name in csv_files:\n",
    "            file_path = os.path.join(month_directory, file_name)\n",
    "            \n",
    "            # Read the CSV file\n",
    "            df_to_append = pd.read_csv(file_path)\n",
    "            \n",
    "            # Append its data to the existing DataFrame\n",
    "            citybike_2021_df = pd.concat([citybike_2021_df, df_to_append], ignore_index=True)\n",
    "    else:\n",
    "        print(f\"Directory not found: {month_directory}\")"
   ]
  },
  {
   "cell_type": "markdown",
   "metadata": {},
   "source": [
    "Export CSV"
   ]
  },
  {
   "cell_type": "code",
   "execution_count": null,
   "metadata": {},
   "outputs": [],
   "source": [
    "# Export DataFrame to CSV file\n",
    "citybike_2021_df.to_csv('citybike_2021_data.csv', index=False)"
   ]
  }
 ],
 "metadata": {
  "kernelspec": {
   "display_name": "base",
   "language": "python",
   "name": "python3"
  },
  "language_info": {
   "codemirror_mode": {
    "name": "ipython",
    "version": 3
   },
   "file_extension": ".py",
   "mimetype": "text/x-python",
   "name": "python",
   "nbconvert_exporter": "python",
   "pygments_lexer": "ipython3",
   "version": "3.11.5"
  }
 },
 "nbformat": 4,
 "nbformat_minor": 2
}
