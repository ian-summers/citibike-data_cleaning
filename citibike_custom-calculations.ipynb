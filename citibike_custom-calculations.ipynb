{
 "cells": [
  {
   "cell_type": "markdown",
   "metadata": {},
   "source": [
    "Data Loading"
   ]
  },
  {
   "cell_type": "code",
   "execution_count": 2,
   "metadata": {},
   "outputs": [],
   "source": [
    "import pandas as pd\n",
    "import os\n",
    "import calendar"
   ]
  },
  {
   "cell_type": "code",
   "execution_count": 3,
   "metadata": {},
   "outputs": [
    {
     "name": "stderr",
     "output_type": "stream",
     "text": [
      "C:\\Users\\ianro\\AppData\\Local\\Temp\\ipykernel_26116\\1942337203.py:1: DtypeWarning: Columns (5,7) have mixed types. Specify dtype option on import or set low_memory=False.\n",
      "  citybike_2021_df = pd.read_csv('citybike_2021_data.csv')\n"
     ]
    },
    {
     "data": {
      "text/html": [
       "<div>\n",
       "<style scoped>\n",
       "    .dataframe tbody tr th:only-of-type {\n",
       "        vertical-align: middle;\n",
       "    }\n",
       "\n",
       "    .dataframe tbody tr th {\n",
       "        vertical-align: top;\n",
       "    }\n",
       "\n",
       "    .dataframe thead th {\n",
       "        text-align: right;\n",
       "    }\n",
       "</style>\n",
       "<table border=\"1\" class=\"dataframe\">\n",
       "  <thead>\n",
       "    <tr style=\"text-align: right;\">\n",
       "      <th></th>\n",
       "      <th>ride_id</th>\n",
       "      <th>rideable_type</th>\n",
       "      <th>started_at</th>\n",
       "      <th>ended_at</th>\n",
       "      <th>start_station_name</th>\n",
       "      <th>start_station_id</th>\n",
       "      <th>end_station_name</th>\n",
       "      <th>end_station_id</th>\n",
       "      <th>start_lat</th>\n",
       "      <th>start_lng</th>\n",
       "      <th>end_lat</th>\n",
       "      <th>end_lng</th>\n",
       "      <th>member_casual</th>\n",
       "    </tr>\n",
       "  </thead>\n",
       "  <tbody>\n",
       "    <tr>\n",
       "      <th>0</th>\n",
       "      <td>BBA33D73DECE976F</td>\n",
       "      <td>docked_bike</td>\n",
       "      <td>2021-02-26 16:38:54</td>\n",
       "      <td>2021-02-26 16:44:37</td>\n",
       "      <td>E 84 St &amp; Park Ave</td>\n",
       "      <td>7243.04</td>\n",
       "      <td>E 78 St &amp; 2 Ave</td>\n",
       "      <td>7057.07</td>\n",
       "      <td>40.778626</td>\n",
       "      <td>-73.957720</td>\n",
       "      <td>40.772797</td>\n",
       "      <td>-73.955778</td>\n",
       "      <td>casual</td>\n",
       "    </tr>\n",
       "    <tr>\n",
       "      <th>1</th>\n",
       "      <td>B63D7AFF9AC5B6D4</td>\n",
       "      <td>docked_bike</td>\n",
       "      <td>2021-02-17 11:09:11</td>\n",
       "      <td>2021-02-17 11:26:47</td>\n",
       "      <td>Macon St &amp; Nostrand Ave</td>\n",
       "      <td>4214.03</td>\n",
       "      <td>Bond St &amp; Fulton St</td>\n",
       "      <td>4479.06</td>\n",
       "      <td>40.680983</td>\n",
       "      <td>-73.950047</td>\n",
       "      <td>40.689622</td>\n",
       "      <td>-73.983043</td>\n",
       "      <td>member</td>\n",
       "    </tr>\n",
       "    <tr>\n",
       "      <th>2</th>\n",
       "      <td>52B829195C469D99</td>\n",
       "      <td>docked_bike</td>\n",
       "      <td>2021-02-26 18:33:29</td>\n",
       "      <td>2021-02-26 19:05:41</td>\n",
       "      <td>Macon St &amp; Nostrand Ave</td>\n",
       "      <td>4214.03</td>\n",
       "      <td>Lefferts Pl &amp; Franklin Ave</td>\n",
       "      <td>4222.02</td>\n",
       "      <td>40.680983</td>\n",
       "      <td>-73.950047</td>\n",
       "      <td>40.680342</td>\n",
       "      <td>-73.955769</td>\n",
       "      <td>casual</td>\n",
       "    </tr>\n",
       "    <tr>\n",
       "      <th>3</th>\n",
       "      <td>19C84ECA2B468476</td>\n",
       "      <td>docked_bike</td>\n",
       "      <td>2021-02-26 12:48:35</td>\n",
       "      <td>2021-02-26 13:07:24</td>\n",
       "      <td>Macon St &amp; Nostrand Ave</td>\n",
       "      <td>4214.03</td>\n",
       "      <td>Bond St &amp; Fulton St</td>\n",
       "      <td>4479.06</td>\n",
       "      <td>40.680983</td>\n",
       "      <td>-73.950047</td>\n",
       "      <td>40.689622</td>\n",
       "      <td>-73.983043</td>\n",
       "      <td>member</td>\n",
       "    </tr>\n",
       "    <tr>\n",
       "      <th>4</th>\n",
       "      <td>C0DDB771E70D9DF5</td>\n",
       "      <td>docked_bike</td>\n",
       "      <td>2021-02-25 17:23:22</td>\n",
       "      <td>2021-02-25 17:28:20</td>\n",
       "      <td>Madison Ave &amp; E 26 St</td>\n",
       "      <td>6131.12</td>\n",
       "      <td>W 37 St &amp; 5 Ave</td>\n",
       "      <td>6398.06</td>\n",
       "      <td>40.742685</td>\n",
       "      <td>-73.986713</td>\n",
       "      <td>40.750380</td>\n",
       "      <td>-73.983390</td>\n",
       "      <td>member</td>\n",
       "    </tr>\n",
       "  </tbody>\n",
       "</table>\n",
       "</div>"
      ],
      "text/plain": [
       "            ride_id rideable_type           started_at             ended_at  \\\n",
       "0  BBA33D73DECE976F   docked_bike  2021-02-26 16:38:54  2021-02-26 16:44:37   \n",
       "1  B63D7AFF9AC5B6D4   docked_bike  2021-02-17 11:09:11  2021-02-17 11:26:47   \n",
       "2  52B829195C469D99   docked_bike  2021-02-26 18:33:29  2021-02-26 19:05:41   \n",
       "3  19C84ECA2B468476   docked_bike  2021-02-26 12:48:35  2021-02-26 13:07:24   \n",
       "4  C0DDB771E70D9DF5   docked_bike  2021-02-25 17:23:22  2021-02-25 17:28:20   \n",
       "\n",
       "        start_station_name start_station_id            end_station_name  \\\n",
       "0       E 84 St & Park Ave          7243.04             E 78 St & 2 Ave   \n",
       "1  Macon St & Nostrand Ave          4214.03         Bond St & Fulton St   \n",
       "2  Macon St & Nostrand Ave          4214.03  Lefferts Pl & Franklin Ave   \n",
       "3  Macon St & Nostrand Ave          4214.03         Bond St & Fulton St   \n",
       "4    Madison Ave & E 26 St          6131.12             W 37 St & 5 Ave   \n",
       "\n",
       "  end_station_id  start_lat  start_lng    end_lat    end_lng member_casual  \n",
       "0        7057.07  40.778626 -73.957720  40.772797 -73.955778        casual  \n",
       "1        4479.06  40.680983 -73.950047  40.689622 -73.983043        member  \n",
       "2        4222.02  40.680983 -73.950047  40.680342 -73.955769        casual  \n",
       "3        4479.06  40.680983 -73.950047  40.689622 -73.983043        member  \n",
       "4        6398.06  40.742685 -73.986713  40.750380 -73.983390        member  "
      ]
     },
     "execution_count": 3,
     "metadata": {},
     "output_type": "execute_result"
    }
   ],
   "source": [
    "citybike_2021_df = pd.read_csv('citybike_2021_data.csv')\n",
    "\n",
    "citybike_2021_df.head()"
   ]
  },
  {
   "cell_type": "code",
   "execution_count": 4,
   "metadata": {},
   "outputs": [],
   "source": [
    "from datetime import datetime\n",
    "\n",
    "# Convert 'ended_at' column to datetime\n",
    "citybike_2021_df['ended_at'] = pd.to_datetime(citybike_2021_df['ended_at'])\n",
    "\n",
    "# Filter data based on 'ended_at' column\n",
    "citybike_2021_df = citybike_2021_df[citybike_2021_df['ended_at'] < datetime(2021, 6, 1)]"
   ]
  },
  {
   "cell_type": "markdown",
   "metadata": {},
   "source": [
    "Average Length of Time"
   ]
  },
  {
   "cell_type": "code",
   "execution_count": 5,
   "metadata": {},
   "outputs": [],
   "source": [
    "citybike_2021_df['started_at'] = pd.to_datetime(citybike_2021_df['started_at'])\n",
    "citybike_2021_df['ended_at'] = pd.to_datetime(citybike_2021_df['ended_at'])\n",
    "\n",
    "# Calculate the duration of the trip\n",
    "citybike_2021_df['trip_duration'] = citybike_2021_df['ended_at'] - citybike_2021_df['started_at']\n",
    "\n",
    "# Convert the duration to seconds for easier analysis\n",
    "citybike_2021_df['trip_duration_seconds'] = citybike_2021_df['trip_duration'].dt.total_seconds()\n",
    "\n",
    "citybike_2021_df['trip_duration_minutes'] = citybike_2021_df['trip_duration_seconds'] / 60"
   ]
  },
  {
   "cell_type": "markdown",
   "metadata": {},
   "source": [
    "Average Distance (Haversine)"
   ]
  },
  {
   "cell_type": "code",
   "execution_count": 6,
   "metadata": {},
   "outputs": [],
   "source": [
    "import pandas as pd\n",
    "from math import radians, sin, cos, sqrt, atan2\n",
    "\n",
    "def haversine_distance(lat1, lon1, lat2, lon2):\n",
    "    # Convert latitude and longitude from degrees to radians\n",
    "    lat1, lon1, lat2, lon2 = map(radians, [lat1, lon1, lat2, lon2])\n",
    "\n",
    "    # Haversine formula\n",
    "    dlat = lat2 - lat1\n",
    "    dlon = lon2 - lon1\n",
    "    a = sin(dlat / 2) ** 2 + cos(lat1) * cos(lat2) * sin(dlon / 2) ** 2\n",
    "    c = 2 * atan2(sqrt(a), sqrt(1 - a))\n",
    "    distance = 6371 * c  # Radius of Earth in kilometers\n",
    "    return distance\n",
    "\n",
    "# Calculate Haversine distance for each row in the DataFrame and append it as a new column\n",
    "citybike_2021_df['haversine_distance'] = citybike_2021_df.apply(lambda row: haversine_distance(row['start_lat'], row['start_lng'], row['end_lat'], row['end_lng']), axis=1)\n"
   ]
  },
  {
   "cell_type": "markdown",
   "metadata": {},
   "source": [
    "Average Approximate Speed"
   ]
  },
  {
   "cell_type": "code",
   "execution_count": 7,
   "metadata": {},
   "outputs": [
    {
     "name": "stdout",
     "output_type": "stream",
     "text": [
      "   trip_duration_minutes  haversine_distance  average_speed_mph\n",
      "0               5.716667            0.668508           4.359795\n",
      "1              17.600000            2.943338           6.234903\n",
      "2              32.200000            0.487733           0.564714\n",
      "3              18.816667            2.943338           5.831761\n",
      "4               4.966667            0.900273           6.757898\n"
     ]
    }
   ],
   "source": [
    "# Convert kilometers to miles (1 kilometer = 0.621371 miles)\n",
    "citybike_2021_df['haversine_distance_miles'] = citybike_2021_df['haversine_distance'] * 0.621371\n",
    "\n",
    "# Calculate average approximate speed (in miles per hour)\n",
    "citybike_2021_df['average_speed_mph'] = citybike_2021_df['haversine_distance_miles'] / (citybike_2021_df['trip_duration_minutes'] / 60)\n",
    "\n",
    "# Display the DataFrame with the new column\n",
    "print(citybike_2021_df[['trip_duration_minutes', 'haversine_distance', 'average_speed_mph']].head())\n"
   ]
  },
  {
   "cell_type": "code",
   "execution_count": 8,
   "metadata": {},
   "outputs": [
    {
     "name": "stdout",
     "output_type": "stream",
     "text": [
      "           started_at  started_dayofweek  started_hour            ended_at  \\\n",
      "0 2021-02-26 16:38:54                  4            16 2021-02-26 16:44:37   \n",
      "1 2021-02-17 11:09:11                  2            11 2021-02-17 11:26:47   \n",
      "2 2021-02-26 18:33:29                  4            18 2021-02-26 19:05:41   \n",
      "3 2021-02-26 12:48:35                  4            12 2021-02-26 13:07:24   \n",
      "4 2021-02-25 17:23:22                  3            17 2021-02-25 17:28:20   \n",
      "\n",
      "   ended_dayofweek  ended_hour  \n",
      "0                4          16  \n",
      "1                2          11  \n",
      "2                4          19  \n",
      "3                4          13  \n",
      "4                3          17  \n"
     ]
    }
   ],
   "source": [
    "import pandas as pd\n",
    "\n",
    "# Convert 'started_at' and 'ended_at' columns to datetime\n",
    "citybike_2021_df['started_at'] = pd.to_datetime(citybike_2021_df['started_at'])\n",
    "citybike_2021_df['ended_at'] = pd.to_datetime(citybike_2021_df['ended_at'])\n",
    "\n",
    "# Extract day of the week and hour for 'started_at'\n",
    "citybike_2021_df['started_dayofweek'] = citybike_2021_df['started_at'].dt.dayofweek\n",
    "citybike_2021_df['started_hour'] = citybike_2021_df['started_at'].dt.hour\n",
    "\n",
    "# Extract day of the week and hour for 'ended_at'\n",
    "citybike_2021_df['ended_dayofweek'] = citybike_2021_df['ended_at'].dt.dayofweek\n",
    "citybike_2021_df['ended_hour'] = citybike_2021_df['ended_at'].dt.hour\n",
    "\n",
    "# Display the DataFrame with the new columns\n",
    "print(citybike_2021_df[['started_at', 'started_dayofweek', 'started_hour', 'ended_at', 'ended_dayofweek', 'ended_hour']].head())\n"
   ]
  },
  {
   "cell_type": "markdown",
   "metadata": {},
   "source": [
    "Export for Tableau Analysis"
   ]
  },
  {
   "cell_type": "code",
   "execution_count": 9,
   "metadata": {},
   "outputs": [],
   "source": [
    "# Export DataFrame to CSV file\n",
    "citybike_2021_df.to_csv('citybike_2021_data_customcalcs.csv', index=False)"
   ]
  }
 ],
 "metadata": {
  "kernelspec": {
   "display_name": "base",
   "language": "python",
   "name": "python3"
  },
  "language_info": {
   "codemirror_mode": {
    "name": "ipython",
    "version": 3
   },
   "file_extension": ".py",
   "mimetype": "text/x-python",
   "name": "python",
   "nbconvert_exporter": "python",
   "pygments_lexer": "ipython3",
   "version": "3.11.5"
  }
 },
 "nbformat": 4,
 "nbformat_minor": 2
}
